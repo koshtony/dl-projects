{
 "cells": [
  {
   "cell_type": "code",
   "execution_count": 3,
   "metadata": {},
   "outputs": [],
   "source": [
    "import random\n",
    "import pickle\n",
    "\n",
    "import numpy as np\n",
    "from pypdf import PdfReader\n",
    "from nltk.tokenize import RegexpTokenizer\n",
    "\n",
    "from tensorflow.keras.models import Sequential,load_model \n",
    "from tensorflow.keras.layers import LSTM,Dense,Activation \n",
    "from tensorflow.keras.optimizers import RMSprop"
   ]
  },
  {
   "cell_type": "code",
   "execution_count": 7,
   "metadata": {},
   "outputs": [],
   "source": [
    "def extract_pdf_text(path):\n",
    "    \n",
    "    reader = PdfReader(path)\n",
    "    pages = reader.pages[7:117]\n",
    "    \n",
    "    return \" \".join(pages[i].extract_text() for i in range(len(pages)))\n",
    "    \n",
    "text = extract_pdf_text(\"constitution.pdf\")\n",
    "file = open(\"constitution.text\",\"w\")\n",
    "file.write(text)\n",
    "file.close()\n",
    "    "
   ]
  },
  {
   "cell_type": "code",
   "execution_count": null,
   "metadata": {},
   "outputs": [],
   "source": [
    "tokenizer = RegexpTokenizer(r\"\\w+\")\n",
    "tokens = tokenizer.tokenize(text.lower())\n",
    "tokens"
   ]
  },
  {
   "cell_type": "code",
   "execution_count": 13,
   "metadata": {},
   "outputs": [],
   "source": [
    "unique_tokens = np.unique(tokens)\n",
    "unique_token_index = {token:idx for idx, token in enumerate(unique_tokens)}"
   ]
  },
  {
   "cell_type": "code",
   "execution_count": 14,
   "metadata": {},
   "outputs": [],
   "source": [
    "n_words = 10\n",
    "input_words = []\n",
    "output_words = [] \n",
    "for i in range(len(tokens)-n_words):\n",
    "    \n",
    "    input_words.append(tokens[i:i+n_words])\n",
    "    output_words.append(tokens[i+n_words])"
   ]
  },
  {
   "cell_type": "code",
   "execution_count": 19,
   "metadata": {},
   "outputs": [],
   "source": [
    "X = np.zeros((len(input_words),n_words,len(unique_tokens)),dtype=bool)\n",
    "Y = np.zeros((len(output_words),len(unique_tokens)),dtype=bool)\n"
   ]
  },
  {
   "cell_type": "code",
   "execution_count": 28,
   "metadata": {},
   "outputs": [],
   "source": [
    "for i,words in enumerate(input_words):\n",
    "    \n",
    "    for j,word in enumerate(words):\n",
    "        \n",
    "        X[i,j,unique_token_index[word]] = 1\n",
    "    Y[i,unique_token_index[word]] =1"
   ]
  },
  {
   "cell_type": "code",
   "execution_count": 31,
   "metadata": {},
   "outputs": [],
   "source": [
    "model = Sequential()\n",
    "model.add(LSTM(128,input_shape=(n_words,len(unique_tokens)),return_sequences=True))\n",
    "model.add(LSTM(128))\n",
    "model.add(Dense(len(unique_tokens)))\n",
    "model.add(Activation(\"softmax\"))"
   ]
  },
  {
   "cell_type": "code",
   "execution_count": 32,
   "metadata": {},
   "outputs": [
    {
     "name": "stdout",
     "output_type": "stream",
     "text": [
      "Epoch 1/10\n",
      "309/309 [==============================] - 116s 330ms/step - loss: 3.0669 - accuracy: 0.5234\n",
      "Epoch 2/10\n",
      "309/309 [==============================] - 113s 365ms/step - loss: 1.0059 - accuracy: 0.8698\n",
      "Epoch 3/10\n",
      "309/309 [==============================] - 117s 378ms/step - loss: 0.6404 - accuracy: 0.9211\n",
      "Epoch 4/10\n",
      "309/309 [==============================] - 103s 332ms/step - loss: 0.4438 - accuracy: 0.9436\n",
      "Epoch 5/10\n",
      "309/309 [==============================] - 99s 320ms/step - loss: 0.2950 - accuracy: 0.9607\n",
      "Epoch 6/10\n",
      "309/309 [==============================] - 84s 272ms/step - loss: 0.2014 - accuracy: 0.9715\n",
      "Epoch 7/10\n",
      "309/309 [==============================] - 86s 280ms/step - loss: 0.1500 - accuracy: 0.9766\n",
      "Epoch 8/10\n",
      "309/309 [==============================] - 77s 250ms/step - loss: 0.1048 - accuracy: 0.9808\n",
      "Epoch 9/10\n",
      "309/309 [==============================] - 79s 256ms/step - loss: 0.0716 - accuracy: 0.9855\n",
      "Epoch 10/10\n",
      "309/309 [==============================] - 111s 358ms/step - loss: 0.0443 - accuracy: 0.9899\n"
     ]
    },
    {
     "data": {
      "text/plain": [
       "<tensorflow.python.keras.callbacks.History at 0x1e52b106340>"
      ]
     },
     "execution_count": 32,
     "metadata": {},
     "output_type": "execute_result"
    }
   ],
   "source": [
    "model.compile(loss=\"categorical_crossentropy\",optimizer=RMSprop(learning_rate=0.01),metrics=[\"accuracy\"])\n",
    "model.fit(X,Y,batch_size=128,epochs=10,shuffle=True)"
   ]
  },
  {
   "cell_type": "code",
   "execution_count": 33,
   "metadata": {},
   "outputs": [],
   "source": [
    "model.save(\"constitutionModel.h5\")"
   ]
  },
  {
   "cell_type": "code",
   "execution_count": 34,
   "metadata": {},
   "outputs": [],
   "source": [
    "model = load_model(\"constitutionModel.h5\")"
   ]
  },
  {
   "cell_type": "code",
   "execution_count": 38,
   "metadata": {},
   "outputs": [],
   "source": [
    "def predict_next_words(input_text,n):\n",
    "    \n",
    "    X = np.zeros((1,n_words,len(unique_tokens)))\n",
    "    \n",
    "    for i,word in enumerate(input_text.lower().split()):\n",
    "        X[0,i,unique_token_index[word]] = 1 \n",
    "    \n",
    "    predictions = model.predict(X)[0]\n",
    "    \n",
    "    return np.argpartition(predictions,n)[n:]"
   ]
  },
  {
   "cell_type": "code",
   "execution_count": 39,
   "metadata": {},
   "outputs": [],
   "source": [
    "possible_words = predict_next_words(\"in every constituency in which a poll\",5)"
   ]
  },
  {
   "cell_type": "code",
   "execution_count": null,
   "metadata": {},
   "outputs": [],
   "source": [
    "next_words = [unique_tokens[idx] for idx in possible_words]\n"
   ]
  },
  {
   "cell_type": "code",
   "execution_count": 43,
   "metadata": {},
   "outputs": [
    {
     "data": {
      "text/plain": [
       "'in every constituency in which a poll consulate adjournment right 2 available whenever functions vacancies secretaries 26'"
      ]
     },
     "execution_count": 43,
     "metadata": {},
     "output_type": "execute_result"
    }
   ],
   "source": [
    "def generate_text(input_text,text_length,creativity=3):\n",
    "    \n",
    "    word_sequence = input_text.split()\n",
    "    \n",
    "    current = 0 \n",
    "    \n",
    "    for _ in range(text_length):\n",
    "        \n",
    "        sub_sequence = \" \".join(tokenizer.tokenize(\" \".join(word_sequence).lower())[current:current+n_words])\n",
    "        try:\n",
    "            \n",
    "            choice = unique_tokens[random.choice(predict_next_words(sub_sequence,creativity))]\n",
    "            \n",
    "        except:\n",
    "            \n",
    "            choice = random.choice(unique_tokens)\n",
    "            \n",
    "        word_sequence.append(choice)\n",
    "        current += 1\n",
    "        \n",
    "    return \" \".join(word_sequence)\n",
    "\n",
    "next_words=generate_text(\"in every constituency in which a poll\",10,100)\n",
    "next_words"
   ]
  }
 ],
 "metadata": {
  "kernelspec": {
   "display_name": "tf_deep",
   "language": "python",
   "name": "python3"
  },
  "language_info": {
   "codemirror_mode": {
    "name": "ipython",
    "version": 3
   },
   "file_extension": ".py",
   "mimetype": "text/x-python",
   "name": "python",
   "nbconvert_exporter": "python",
   "pygments_lexer": "ipython3",
   "version": "3.9.18"
  }
 },
 "nbformat": 4,
 "nbformat_minor": 2
}
