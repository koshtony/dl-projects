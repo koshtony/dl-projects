{
 "cells": [
  {
   "cell_type": "code",
   "execution_count": 48,
   "metadata": {},
   "outputs": [],
   "source": [
    "import tensorflow as tf\n",
    "from tensorflow import keras\n",
    "from tensorflow.keras import layers \n",
    "from tensorflow.keras.datasets import mnist\n",
    "import numpy as np\n",
    "import cv2\n",
    "import matplotlib.pyplot as plt "
   ]
  },
  {
   "cell_type": "code",
   "execution_count": 49,
   "metadata": {},
   "outputs": [
    {
     "data": {
      "text/plain": [
       "784"
      ]
     },
     "execution_count": 49,
     "metadata": {},
     "output_type": "execute_result"
    }
   ],
   "source": [
    "# loading datasets \n",
    "\n",
    "(x_train,y_train),(x_test,y_test) = mnist.load_data()\n",
    "\n",
    "shape = x_train.shape[1]*x_train.shape[2]\n",
    "shape"
   ]
  },
  {
   "cell_type": "code",
   "execution_count": 11,
   "metadata": {},
   "outputs": [],
   "source": [
    "# flatten the images \n",
    "x_train = x_train.reshape(-1,shape).astype(\"float32\")/255.0\n",
    "x_test = x_test.reshape(-1,shape).astype(\"float32\")/255.0"
   ]
  },
  {
   "cell_type": "code",
   "execution_count": 14,
   "metadata": {},
   "outputs": [
    {
     "name": "stdout",
     "output_type": "stream",
     "text": [
      "Model: \"sequential_2\"\n",
      "_________________________________________________________________\n",
      "Layer (type)                 Output Shape              Param #   \n",
      "=================================================================\n",
      "first_layer (Dense)          (None, 512)               401920    \n",
      "_________________________________________________________________\n",
      "second_layer (Dense)         (None, 256)               131328    \n",
      "_________________________________________________________________\n",
      "third_layer (Dense)          (None, 10)                2570      \n",
      "=================================================================\n",
      "Total params: 535,818\n",
      "Trainable params: 535,818\n",
      "Non-trainable params: 0\n",
      "_________________________________________________________________\n"
     ]
    }
   ],
   "source": [
    "'''\n",
    "creating model using sequential API \n",
    "not flexible allows only ; one input mapped to one output\n",
    "'''\n",
    "\n",
    "model = keras.Sequential(\n",
    "    [\n",
    "        keras.layers.InputLayer(input_shape=shape),\n",
    "        layers.Dense(512,activation=\"relu\",name=\"first_layer\"),\n",
    "        layers.Dense(256,activation=\"relu\",name=\"second_layer\"),\n",
    "        layers.Dense(10,name=\"third_layer\")\n",
    "        \n",
    "    ]\n",
    ")\n",
    "\n",
    "model.summary()"
   ]
  },
  {
   "cell_type": "code",
   "execution_count": 16,
   "metadata": {},
   "outputs": [],
   "source": [
    "# compile model\n",
    "model.compile(\n",
    "    \n",
    "    loss = keras.losses.SparseCategoricalCrossentropy(from_logits=True),\n",
    "    \n",
    "    optimizer = keras.optimizers.Adam(learning_rate = 0.001),#keras.optimizers.experimental.SGD\n",
    "    \n",
    "    metrics = [\"accuracy\"]\n",
    ")\n"
   ]
  },
  {
   "cell_type": "code",
   "execution_count": 19,
   "metadata": {},
   "outputs": [
    {
     "name": "stdout",
     "output_type": "stream",
     "text": [
      "Epoch 1/5\n",
      "3000/3000 - 22s - loss: 0.0406 - accuracy: 0.9869\n",
      "Epoch 2/5\n",
      "3000/3000 - 19s - loss: 0.0326 - accuracy: 0.9895\n",
      "Epoch 3/5\n",
      "3000/3000 - 19s - loss: 0.0255 - accuracy: 0.9919\n",
      "Epoch 4/5\n",
      "3000/3000 - 17s - loss: 0.0257 - accuracy: 0.9924\n",
      "Epoch 5/5\n",
      "3000/3000 - 18s - loss: 0.0226 - accuracy: 0.9935\n"
     ]
    },
    {
     "data": {
      "text/plain": [
       "<tensorflow.python.keras.callbacks.History at 0x20b2aed2820>"
      ]
     },
     "execution_count": 19,
     "metadata": {},
     "output_type": "execute_result"
    }
   ],
   "source": [
    "# train the model \n",
    "\n",
    "model.fit(x_train,y_train,batch_size=20,epochs=5,verbose=2)"
   ]
  },
  {
   "cell_type": "code",
   "execution_count": 20,
   "metadata": {},
   "outputs": [
    {
     "name": "stdout",
     "output_type": "stream",
     "text": [
      "313/313 - 1s - loss: 0.0847 - accuracy: 0.9828\n"
     ]
    },
    {
     "data": {
      "text/plain": [
       "[0.08470854163169861, 0.9828000068664551]"
      ]
     },
     "execution_count": 20,
     "metadata": {},
     "output_type": "execute_result"
    }
   ],
   "source": [
    "# evaluate model \n",
    "\n",
    "model.evaluate(x_test,y_test,batch_size=32,verbose=2)"
   ]
  },
  {
   "cell_type": "code",
   "execution_count": 24,
   "metadata": {},
   "outputs": [
    {
     "name": "stdout",
     "output_type": "stream",
     "text": [
      "Model: \"model\"\n",
      "_________________________________________________________________\n",
      "Layer (type)                 Output Shape              Param #   \n",
      "=================================================================\n",
      "input_6 (InputLayer)         [(None, 784)]             0         \n",
      "_________________________________________________________________\n",
      "first_layer (Dense)          (None, 512)               401920    \n",
      "_________________________________________________________________\n",
      "second_layer (Dense)         (None, 256)               131328    \n",
      "_________________________________________________________________\n",
      "output_layer (Dense)         (None, 10)                2570      \n",
      "=================================================================\n",
      "Total params: 535,818\n",
      "Trainable params: 535,818\n",
      "Non-trainable params: 0\n",
      "_________________________________________________________________\n"
     ]
    }
   ],
   "source": [
    "'''\n",
    " using functional API; more flexible \n",
    "'''\n",
    "\n",
    "inputs = keras.Input(shape=shape) \n",
    "layer = layers.Dense(512,activation=\"relu\",name=\"first_layer\")(inputs)\n",
    "layer = layers.Dense(256,activation=\"relu\",name=\"second_layer\")(layer)\n",
    "outputs = layers.Dense(10,activation=\"softmax\",name=\"output_layer\")(layer)\n",
    "model_2 = keras.Model(inputs=inputs,outputs=outputs)\n",
    "\n",
    "model_2.summary()"
   ]
  },
  {
   "cell_type": "code",
   "execution_count": 33,
   "metadata": {},
   "outputs": [],
   "source": [
    "model_2.compile(\n",
    "    loss=keras.losses.SparseCategoricalCrossentropy(),#from_logits=False\n",
    "    optimizer = keras.optimizers.Adam(learning_rate = 0.0001),\n",
    "    metrics=[\"accuracy\"]\n",
    "    \n",
    "    \n",
    ")"
   ]
  },
  {
   "cell_type": "code",
   "execution_count": 34,
   "metadata": {},
   "outputs": [
    {
     "name": "stdout",
     "output_type": "stream",
     "text": [
      "Epoch 1/5\n",
      "3750/3750 - 22s - loss: 0.0115 - accuracy: 0.9963\n",
      "Epoch 2/5\n",
      "3750/3750 - 20s - loss: 0.0045 - accuracy: 0.9988\n",
      "Epoch 3/5\n",
      "3750/3750 - 20s - loss: 0.0026 - accuracy: 0.9993\n",
      "Epoch 4/5\n",
      "3750/3750 - 20s - loss: 0.0014 - accuracy: 0.9997\n",
      "Epoch 5/5\n",
      "3750/3750 - 21s - loss: 7.3521e-04 - accuracy: 0.9998\n"
     ]
    },
    {
     "data": {
      "text/plain": [
       "<tensorflow.python.keras.callbacks.History at 0x20b2cc5ebb0>"
      ]
     },
     "execution_count": 34,
     "metadata": {},
     "output_type": "execute_result"
    }
   ],
   "source": [
    "model_2.fit(x_train,y_train,batch_size=16,epochs=5,verbose=2)"
   ]
  },
  {
   "cell_type": "code",
   "execution_count": 35,
   "metadata": {},
   "outputs": [
    {
     "name": "stdout",
     "output_type": "stream",
     "text": [
      "625/625 - 1s - loss: 0.0862 - accuracy: 0.9859\n"
     ]
    },
    {
     "data": {
      "text/plain": [
       "[0.08617285639047623, 0.9858999848365784]"
      ]
     },
     "execution_count": 35,
     "metadata": {},
     "output_type": "execute_result"
    }
   ],
   "source": [
    "model_2.evaluate(x_test,y_test,batch_size=16,verbose=2)"
   ]
  },
  {
   "cell_type": "code",
   "execution_count": 87,
   "metadata": {},
   "outputs": [
    {
     "data": {
      "image/png": "[encoded data removed]",
      "text/plain": [
       "<Figure size 640x480 with 1 Axes>"
      ]
     },
     "metadata": {},
     "output_type": "display_data"
    }
   ],
   "source": [
    "# predict new data\n",
    "\n",
    "image = cv2.imread(\"four.jpg\")\n",
    "\n",
    "plt.imshow(image)\n",
    "\n",
    "plt.show()\n"
   ]
  },
  {
   "cell_type": "code",
   "execution_count": 90,
   "metadata": {},
   "outputs": [],
   "source": [
    "image_ = np.array([image])\n",
    "\n",
    "image_ = image_.reshape(-1,shape).astype(\"float32\")/255.0\n",
    "\n",
    "prediction = model_2.predict(image_)"
   ]
  },
  {
   "cell_type": "code",
   "execution_count": 91,
   "metadata": {},
   "outputs": [
    {
     "data": {
      "image/png": "[encoded data removed]",
      "text/plain": [
       "<Figure size 640x480 with 1 Axes>"
      ]
     },
     "metadata": {},
     "output_type": "display_data"
    }
   ],
   "source": [
    "plt.imshow(image)\n",
    "plt.title(np.argmax(prediction))\n",
    "plt.show()"
   ]
  }
 ],
 "metadata": {
  "kernelspec": {
   "display_name": "tf_deep",
   "language": "python",
   "name": "python3"
  },
  "language_info": {
   "codemirror_mode": {
    "name": "ipython",
    "version": 3
   },
   "file_extension": ".py",
   "mimetype": "text/x-python",
   "name": "python",
   "nbconvert_exporter": "python",
   "pygments_lexer": "ipython3",
   "version": "3.9.18"
  }
 },
 "nbformat": 4,
 "nbformat_minor": 2
}
